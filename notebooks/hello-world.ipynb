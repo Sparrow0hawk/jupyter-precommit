{
 "cells": [
  {
   "cell_type": "markdown",
   "id": "a7e14745-f127-4e93-93cb-1d39d81647f0",
   "metadata": {},
   "source": [
    "# Hello world"
   ]
  },
  {
   "cell_type": "code",
   "execution_count": null,
   "id": "24d7a989-0913-48ff-a43a-ab7cdc0b2d74",
   "metadata": {},
   "outputs": [],
   "source": [
    "print(\"Hello world!\")"
   ]
  },
  {
   "cell_type": "code",
   "execution_count": null,
   "id": "d9754622-6ca5-48ae-ae36-2bd1c6fcfb57",
   "metadata": {},
   "outputs": [],
   "source": [
    "4 + 2 - 1"
   ]
  },
  {
   "cell_type": "code",
   "execution_count": null,
   "id": "381954cf-c4da-4927-8ec3-862e031b4129",
   "metadata": {},
   "outputs": [],
   "source": [
    "for x in range(100):\n",
    "    print(\"Output \" * x)"
   ]
  },
  {
   "cell_type": "code",
   "execution_count": null,
   "id": "7efcc368-8c37-4be8-9a20-447abf53af08",
   "metadata": {},
   "outputs": [],
   "source": []
  }
 ],
 "metadata": {
  "kernelspec": {
   "display_name": "Python 3 (ipykernel)",
   "language": "python",
   "name": "python3"
  },
  "language_info": {
   "codemirror_mode": {
    "name": "ipython",
    "version": 3
   },
   "file_extension": ".py",
   "mimetype": "text/x-python",
   "name": "python",
   "nbconvert_exporter": "python",
   "pygments_lexer": "ipython3",
   "version": "3.10.10"
  }
 },
 "nbformat": 4,
 "nbformat_minor": 5
}
